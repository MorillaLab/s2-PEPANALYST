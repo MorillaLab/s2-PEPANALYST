{
 "cells": [
  {
   "cell_type": "code",
   "execution_count": 48,
   "id": "6b6484f0-7112-43ec-945d-44b329814fcd",
   "metadata": {},
   "outputs": [],
   "source": [
    "# pip install signalp-6-package/"
   ]
  },
  {
   "cell_type": "code",
   "execution_count": 49,
   "id": "b3fcff91-7a9c-4676-a3b7-1f699ace465d",
   "metadata": {},
   "outputs": [],
   "source": [
    "# pip install tape-proteins"
   ]
  },
  {
   "cell_type": "code",
   "execution_count": 50,
   "id": "6daaa9bc-b859-4df4-97ce-c04e85fee65d",
   "metadata": {},
   "outputs": [],
   "source": [
    "#HuggingFace Tranformers Package\n",
    "# pip install transformers"
   ]
  },
  {
   "cell_type": "code",
   "execution_count": 51,
   "id": "9674aec7-b4b6-4ef2-b671-b489b06ae3d6",
   "metadata": {},
   "outputs": [],
   "source": [
    "# pip install keras"
   ]
  },
  {
   "cell_type": "code",
   "execution_count": 79,
   "id": "70a8ecfd-54c6-4f76-aefd-5f9d1e58deb9",
   "metadata": {},
   "outputs": [],
   "source": [
    "import numpy as np \n",
    "import matplotlib.pyplot as plt \n",
    "import os \n",
    "from scipy.stats import norm\n",
    "import scipy.stats as sps\n",
    "import cv2\n",
    "from scipy.ndimage import convolve\n",
    "import skimage\n",
    "from scipy import ndimage\n",
    "from scipy.spatial.distance import cdist\n",
    "from nibabel.testing import data_path\n",
    "import nibabel as nib\n",
    "from sklearn.mixture import GaussianMixture\n",
    "import os\n",
    "import pandas as pd\n",
    "import skimage.measure\n",
    "import seaborn as sns\n",
    "import scipy as sp\n",
    "import gudhi as gd\n",
    "import random\n",
    "import sys\n",
    "sys.path.append('../../') \n",
    "from Code.function_geometry import * \n",
    "from Code.codegeometry import * \n",
    "from PIL import Image\n",
    "from sklearn.utils import shuffle"
   ]
  },
  {
   "cell_type": "code",
   "execution_count": 80,
   "id": "e32bb0e7-b976-4f46-b7e4-719786dd746d",
   "metadata": {},
   "outputs": [],
   "source": [
    "import sklearn.preprocessing   as skp\n",
    "import sklearn.neighbors       as skn\n",
    "import sklearn.model_selection as skm\n",
    "import sklearn.decomposition   as skd\n",
    "import sklearn.manifold        as skf\n",
    "import sklearn.pipeline        as skl\n",
    "import sklearn.svm             as sks\n",
    "import sklearn.ensemble        as ske\n",
    "import itertools\n",
    "import tensorflow as tf\n",
    "\n",
    "import gudhi.clustering.tomato as gdt\n",
    "import gudhi.representations   as gdr"
   ]
  },
  {
   "cell_type": "code",
   "execution_count": 81,
   "id": "16c0b128-f5bd-4b2d-bef7-c606df926703",
   "metadata": {},
   "outputs": [],
   "source": [
    "import pandas as pd\n",
    "import numpy as np\n",
    "from sklearn.model_selection import train_test_split\n",
    "import torch\n",
    "#tokenizer\n",
    "from tape import ProteinBertModel, TAPETokenizer\n",
    "# from tape import UniRepModel, UniRepTokenizer\n",
    "# from tape import ProteinBertModel, ProteinBertTokenizer\n",
    "from transformers import AutoTokenizer\n",
    "from transformers import BertModel, BertTokenizer\n",
    "# ProtGPT2\n",
    "# from transformers import pipeline"
   ]
  },
  {
   "cell_type": "code",
   "execution_count": null,
   "id": "6e1bca02-d924-4210-a3c9-9aca8b3fe004",
   "metadata": {},
   "outputs": [],
   "source": []
  },
  {
   "cell_type": "code",
   "execution_count": 83,
   "id": "3099e6e0-b4e1-4a7c-a665-f2f47bef1a23",
   "metadata": {},
   "outputs": [],
   "source": [
    "from keras.models import Sequential\n",
    "from keras.layers import Conv1D,Conv2D, Dense, Flatten, Dropout,MaxPooling2D\n",
    "from keras import layers\n",
    "from keras.layers import MaxPooling1D,MaxPooling2D\n",
    "from keras.optimizers import SGD, RMSprop\n",
    "from keras import regularizers"
   ]
  },
  {
   "cell_type": "code",
   "execution_count": 56,
   "id": "70d17575-ec2c-43db-8569-c4e95770491a",
   "metadata": {},
   "outputs": [],
   "source": [
    "def readFastaFiles(filename):\n",
    "    sequences = []\n",
    "    labels = []\n",
    "    with open(filename, 'r') as file:\n",
    "        current_id = None\n",
    "        current_seq = ''\n",
    "        for line in file:\n",
    "            if line.startswith('>'):\n",
    "                if current_id and len(current_seq) > 0 and len(current_seq) <= 201:\n",
    "                    labels.append(current_id[1:])\n",
    "                    sequences.append(current_seq.replace('*', '').replace('\\n', ''))\n",
    "                current_id = line\n",
    "                current_seq = ''\n",
    "            else:\n",
    "                current_seq += line\n",
    "        # Add the last sequence\n",
    "        if current_id and len(current_seq) > 0 and len(current_seq) <= 201:\n",
    "            labels.append(current_id)\n",
    "            sequences.append(current_seq.replace('*', '').replace('\\n', ''))\n",
    "    return labels,sequences"
   ]
  },
  {
   "cell_type": "code",
   "execution_count": 57,
   "id": "7bc50ffc-f4f0-4bcd-b0c8-1c6f056646ff",
   "metadata": {},
   "outputs": [],
   "source": [
    "def createFaster(filename,labels,sequences):\n",
    "    with open(filename, 'w') as f:\n",
    "        # Write content to the file\n",
    "        for i in range(len(sequences)):\n",
    "        # for i in range(5):\n",
    "            f.write(labels[i])\n",
    "            f.write(sequences[i]+\"\\n\")"
   ]
  },
  {
   "cell_type": "code",
   "execution_count": 59,
   "id": "10538ffe-d891-4d55-b1ce-384edbb908c0",
   "metadata": {},
   "outputs": [],
   "source": [
    "#Creating a file of all signalP sequences\n",
    "#getting supposed signalprotein\n",
    "def signalProtein(filename,resultSignalp,sequences,labels):\n",
    "    new_label = []\n",
    "    new_sequence = []\n",
    "    i = 0\n",
    "    with open(filename, 'w') as f:\n",
    "        for r in result_signalp:\n",
    "            if r > 0 and r < 0.7:\n",
    "                new_label.append(0)\n",
    "            elif r > 0.7:\n",
    "                new_label.append(1)\n",
    "            if r > 0:\n",
    "                f.write(labels[i]+\"\\n\")\n",
    "                f.write(sequences[i]+\"\\n\")\n",
    "                new_sequence.append(sequences[i])\n",
    "            i+=1\n",
    "    return new_label,new_sequence         "
   ]
  },
  {
   "cell_type": "code",
   "execution_count": 60,
   "id": "56934c03-d05d-4893-8897-55963242ef93",
   "metadata": {},
   "outputs": [],
   "source": [
    "def resultSignalP(filename):\n",
    "    f=open(filename,'r')\n",
    "    result=[]\n",
    "    next(f)\n",
    "    next(f)\n",
    "    for line in f.readlines():\n",
    "        data = line.rstrip()  \n",
    "        index = data.__contains__('SP')\n",
    "        #Can we return the probabilty of SP and other\n",
    "        if index == True: \n",
    "            result.append(1)\n",
    "        else:\n",
    "            result.append(0)\n",
    "    f.close()\n",
    "    return result  "
   ]
  },
  {
   "cell_type": "code",
   "execution_count": 61,
   "id": "20c8c842-1894-42f7-bece-7b2ea00f2d7d",
   "metadata": {},
   "outputs": [],
   "source": [
    "def geotop_analysis(data):\n",
    "    n = 100\n",
    "    i = 0\n",
    "    dgms_tda = []\n",
    "    dgms_per_var = []\n",
    "    dgms_per_linalg = []\n",
    "    for U in data:\n",
    "        print(i)\n",
    "        L = np.linspace(np.min(U), np.max(U),  n)[::-1]\n",
    "        life, barecode, persistence, connected_comp, Per_total, Area_total, euler_total, per, area, euler = function_persistance(U, L, False)\n",
    "        diagram_pondere_total_vari = np.zeros((len(life), 2))\n",
    "        diagram_pondere_linalg = np.zeros((len(life), 2))\n",
    "        diagram = np.zeros((len(life), 2))\n",
    "        k = 0\n",
    "        idx_keys = list(life.keys())\n",
    "        for idx in idx_keys[1:]:\n",
    "            diagram_pondere_total_vari[k][0] = (np.sum(per[idx]))*life[idx][1]\n",
    "            diagram_pondere_total_vari[k][1] = (np.sum(per[idx]))*life[idx][0]\n",
    "            diagram_pondere_linalg[k][0] = (np.linalg.norm(per[idx]))*life[idx][1]\n",
    "            diagram_pondere_linalg[k][1] = (np.linalg.norm(per[idx]))*life[idx][0]\n",
    "            diagram[0] = life[idx][1]\n",
    "            diagram[1] = life[idx][0]\n",
    "            k=k+1\n",
    "        dgms_tda.append(diagram)\n",
    "        dgms_per_linalg.append(diagram_pondere_linalg)\n",
    "        dgms_per_var.append(diagram_pondere_total_vari)\n",
    "        i=i+1\n",
    "    return dgms_per_linalg"
   ]
  },
  {
   "cell_type": "code",
   "execution_count": 62,
   "id": "2f2f2107-2a49-4f7d-800c-e1769900333f",
   "metadata": {},
   "outputs": [],
   "source": [
    "def concate_embedding_geotop(embedding,dgms,dim):\n",
    "    long = embedding.shape[1]\n",
    "    res = []\n",
    "    i = 0\n",
    "    for array in dgms:\n",
    "        flat = array.flatten()\n",
    "        #flatten and concatenate\n",
    "        t = dim - (long + flat.shape[0])\n",
    "        res.append(np.concatenate((np.concatenate((embedding[i], flat)), np.zeros(t))))\n",
    "        i +=1\n",
    "    return res"
   ]
  },
  {
   "cell_type": "code",
   "execution_count": 63,
   "id": "8d47cb43-494d-4ce0-b4ea-3ea2704e414d",
   "metadata": {},
   "outputs": [
    {
     "name": "stdout",
     "output_type": "stream",
     "text": [
      "TensorFlow version: 2.15.0\n",
      "Keras version: 2.15.0\n"
     ]
    }
   ],
   "source": [
    "import tensorflow as tf\n",
    "import keras\n",
    "\n",
    "print(\"TensorFlow version:\", tf.__version__)\n",
    "print(\"Keras version:\", keras.__version__)"
   ]
  },
  {
   "cell_type": "code",
   "execution_count": 64,
   "id": "a75174dd-f005-474a-96e5-61ffb8784c37",
   "metadata": {},
   "outputs": [],
   "source": [
    "def concate_embedding_geotop(embedding,dgms,dim):\n",
    "    # len_data = max(array.shape[0] for array in dgms)\n",
    "    long = embedding.shape[1]\n",
    "    res = []\n",
    "    i = 0\n",
    "    for array in dgms:\n",
    "        flat = array.flatten()\n",
    "        #flatten and concatenate the rest with zeroes\n",
    "        t = dim - (long + flat.shape[0])\n",
    "        res.append(np.concatenate((np.concatenate([embedding[i], flat]), np.zeros(t))))\n",
    "        i +=1\n",
    "    return res"
   ]
  },
  {
   "cell_type": "code",
   "execution_count": 65,
   "id": "2658c6d1-108f-4613-87f3-29312896d9b3",
   "metadata": {},
   "outputs": [],
   "source": [
    "def concat_embedding_geotop(dgms,dim):\n",
    "    # len_data = max(array.shape[0] for array in dgms)\n",
    "    res = []\n",
    "    for array in dgms:\n",
    "        flat = array.flatten()\n",
    "        #flatten and concatenate the rest with zeroes\n",
    "        t = dim - flat.shape[0]\n",
    "        res.append(np.concatenate([flat, np.zeros(t)]))\n",
    "    return res"
   ]
  },
  {
   "cell_type": "code",
   "execution_count": 69,
   "id": "deae36aa-737c-4a3f-b90d-630c382421fc",
   "metadata": {},
   "outputs": [],
   "source": [
    "label,sequence=readFastaFiles(\"Araport11_pep_20220914\")  # change to your own path"
   ]
  },
  {
   "cell_type": "code",
   "execution_count": 70,
   "id": "ab3c71e3-3f2e-4f05-891e-39e44d66a995",
   "metadata": {},
   "outputs": [
    {
     "data": {
      "text/plain": [
       "10280"
      ]
     },
     "execution_count": 70,
     "metadata": {},
     "output_type": "execute_result"
    }
   ],
   "source": [
    "len(sequence)"
   ]
  },
  {
   "cell_type": "code",
   "execution_count": 71,
   "id": "80ee7e84-bd8c-4edd-97de-742ae763020f",
   "metadata": {},
   "outputs": [
    {
     "data": {
      "text/plain": [
       "10280"
      ]
     },
     "execution_count": 71,
     "metadata": {},
     "output_type": "execute_result"
    }
   ],
   "source": [
    "len(label)"
   ]
  },
  {
   "cell_type": "code",
   "execution_count": 72,
   "id": "f42621a2",
   "metadata": {},
   "outputs": [],
   "source": [
    "np.save(\"labels.npy\",label)"
   ]
  },
  {
   "cell_type": "markdown",
   "id": "ae4d5a92-95e1-4da0-a180-c4578769c6ae",
   "metadata": {},
   "source": [
    "## Data Manipulation"
   ]
  },
  {
   "cell_type": "code",
   "execution_count": 73,
   "id": "7802f649-3055-4a4a-8d37-915ba42c2379",
   "metadata": {},
   "outputs": [],
   "source": [
    "#Creating fasta file with protein <=200\n",
    "# createFaster(\"arabidopsis_new.fasta\",label,sequence)"
   ]
  },
  {
   "cell_type": "markdown",
   "id": "d4bd6396-bdc7-4472-a419-c8d9336c8b9c",
   "metadata": {},
   "source": [
    "### Embedding using TAPE"
   ]
  },
  {
   "cell_type": "code",
   "execution_count": 74,
   "id": "d46edf1d-4e6c-49f8-a6df-62f438b95aa4",
   "metadata": {},
   "outputs": [],
   "source": [
    "#Learning the representation of protein\n",
    "model_tape = ProteinBertModel.from_pretrained('bert-base')\n",
    "tokenizer_tape = TAPETokenizer(vocab='iupac')"
   ]
  },
  {
   "cell_type": "code",
   "execution_count": 76,
   "id": "26a21039",
   "metadata": {},
   "outputs": [
    {
     "data": {
      "text/plain": [
       "10280"
      ]
     },
     "execution_count": 76,
     "metadata": {},
     "output_type": "execute_result"
    }
   ],
   "source": [
    "len(label)"
   ]
  },
  {
   "cell_type": "code",
   "execution_count": null,
   "id": "20b68a86-f855-4f10-9ce8-6b7b58623bab",
   "metadata": {
    "scrolled": true
   },
   "outputs": [],
   "source": [
    "num_of_features = 768\n",
    "embedded=np.zeros((len(label),num_of_features))\n",
    "y=np.zeros(len(label))\n",
    "\n",
    "i=0\n",
    "for s in sequence:\n",
    "    #tape\n",
    "    print(i)\n",
    "    token_ids = torch.tensor([tokenizer_tape.encode(s)])\n",
    "    output = model_tape(token_ids)\n",
    "    sequence_output = output[0]\n",
    "    embedded[i]= np.array(np.mean(sequence_output.detach().numpy(),axis=1) )\n",
    "    i=i+1"
   ]
  },
  {
   "cell_type": "code",
   "execution_count": null,
   "id": "4009582c",
   "metadata": {},
   "outputs": [],
   "source": [
    "np.save('arabidopsis_tape.npy', embedded)"
   ]
  },
  {
   "cell_type": "code",
   "execution_count": null,
   "id": "363a6b16-b688-42c7-9496-fb7b55f2b5a6",
   "metadata": {},
   "outputs": [
    {
     "data": {
      "text/plain": [
       "(10280, 768)"
      ]
     },
     "execution_count": 31,
     "metadata": {},
     "output_type": "execute_result"
    }
   ],
   "source": [
    "embedded.shape"
   ]
  },
  {
   "cell_type": "code",
   "execution_count": null,
   "id": "e3bb103e-f1c6-4880-85b6-430c236748fd",
   "metadata": {},
   "outputs": [],
   "source": [
    "\n",
    "import numpy as np\n",
    "# Save the array to a file\n",
    "# np.save('arabidopsis_tape.npy', embedded)\n",
    "\n",
    "# # Later, to reload the array\n",
    "embedded = np.load('arabidopsis_tape.npy')"
   ]
  },
  {
   "cell_type": "code",
   "execution_count": null,
   "id": "77538c8b-2c88-414c-ae7d-a45fa7fb8323",
   "metadata": {},
   "outputs": [],
   "source": [
    "embedded_3d = embedded.reshape(embedded.shape[0],embedded.shape[1],1)"
   ]
  },
  {
   "cell_type": "code",
   "execution_count": null,
   "id": "3329b157-59d8-4334-8e0e-e91fa0ce5a3c",
   "metadata": {},
   "outputs": [
    {
     "data": {
      "text/plain": [
       "(10280, 768, 1)"
      ]
     },
     "execution_count": 44,
     "metadata": {},
     "output_type": "execute_result"
    }
   ],
   "source": [
    "embedded_3d.shape"
   ]
  },
  {
   "cell_type": "markdown",
   "id": "857210c6-e112-4aa8-b77f-703394c23134",
   "metadata": {},
   "source": [
    "### Classification"
   ]
  },
  {
   "cell_type": "code",
   "execution_count": null,
   "id": "b6292a09-babc-403b-ad7c-19941d55ed58",
   "metadata": {},
   "outputs": [],
   "source": [
    "from gtda.homology import VietorisRipsPersistence\n",
    "\n",
    "# Track connected components, loops, and voids\n",
    "homology_dimensions = [0]\n",
    "\n",
    "# Collapse edges to speed up H2 persistence calculation!\n",
    "persistence = VietorisRipsPersistence(\n",
    "    metric=\"euclidean\",\n",
    "    homology_dimensions=homology_dimensions,\n",
    "    n_jobs=6,\n",
    "    collapse_edges=True,\n",
    ")\n",
    "\n",
    "persistence_diagrams = persistence.fit_transform(embedded_3d)"
   ]
  },
  {
   "cell_type": "code",
   "execution_count": null,
   "id": "6f007356-f64e-4ac4-a2e5-4499e71e2d82",
   "metadata": {},
   "outputs": [],
   "source": [
    "np.save(\"persitence_data.npy\",persistence_diagrams)"
   ]
  },
  {
   "cell_type": "code",
   "execution_count": null,
   "id": "16923864",
   "metadata": {},
   "outputs": [],
   "source": [
    "persistence_diagrams = np.load(\"persitence_data.npy\")"
   ]
  },
  {
   "cell_type": "code",
   "execution_count": 85,
   "id": "e5d6eedc-7f20-4ae5-bd85-977290eefe00",
   "metadata": {},
   "outputs": [],
   "source": [
    "from gtda.plotting import plot_diagram\n",
    "from scipy.stats import wasserstein_distance\n",
    "\n",
    "# Circle\n",
    "# plot_diagram(persistence_diagrams[3])"
   ]
  },
  {
   "cell_type": "code",
   "execution_count": null,
   "id": "6f590e8a-b9cf-491a-955b-35344800f050",
   "metadata": {},
   "outputs": [
    {
     "data": {
      "text/plain": [
       "767"
      ]
     },
     "execution_count": 47,
     "metadata": {},
     "output_type": "execute_result"
    }
   ],
   "source": [
    "len(persistence_diagrams[0])"
   ]
  },
  {
   "cell_type": "code",
   "execution_count": null,
   "id": "5fd8cb6c-b783-42d5-8485-ff941e3c8ddd",
   "metadata": {},
   "outputs": [],
   "source": [
    "np.save('persistence_diagrams.npy', persistence_diagrams)"
   ]
  },
  {
   "cell_type": "code",
   "execution_count": null,
   "id": "bc50ebdf",
   "metadata": {},
   "outputs": [],
   "source": [
    "np.save('persistence_data.npy', persistence_diagrams)"
   ]
  },
  {
   "cell_type": "code",
   "execution_count": null,
   "id": "058a329d-a0a5-45d3-8f00-3031d73fd876",
   "metadata": {},
   "outputs": [
    {
     "name": "stdout",
     "output_type": "stream",
     "text": [
      "Wasserstein distance: 0.0\n"
     ]
    }
   ],
   "source": [
    "# Compute the Wasserstein distance between the two diagrams\n",
    "distance = wasserstein_distance(persistence_diagrams[0][:,1], persistence_diagrams[0][:,1])\n",
    "\n",
    "print(\"Wasserstein distance:\", distance)\n"
   ]
  },
  {
   "cell_type": "code",
   "execution_count": null,
   "id": "2aefe9c6-b205-4091-8fe3-01a53e5642fe",
   "metadata": {},
   "outputs": [],
   "source": [
    "length = len(persistence_diagrams)"
   ]
  },
  {
   "cell_type": "code",
   "execution_count": null,
   "id": "7a0971fb-f432-42ff-9ed0-a20e0104a17f",
   "metadata": {},
   "outputs": [
    {
     "data": {
      "text/plain": [
       "'MGIQTRSVLIIVAILTMMFSAHIAQSNSITMCVKHCAQNECLKAAKKPTPKICDEACKKICNNQLFGDEKWFVPAPKGSSRICRWAPKYCQF'"
      ]
     },
     "execution_count": 52,
     "metadata": {},
     "output_type": "execute_result"
    }
   ],
   "source": [
    "sequence[1262]"
   ]
  },
  {
   "cell_type": "code",
   "execution_count": null,
   "id": "016effdf-021e-455e-9844-a82d3f491e4e",
   "metadata": {},
   "outputs": [],
   "source": [
    "for i in range(len(persistence_diagrams)):\n",
    "    for j in range(len(persistence_diagrams)):\n",
    "        wessertein_dist[i,j] = wasserstein_distance(persistence_diagrams[i][:,1], persistence_diagrams[j][:,1])"
   ]
  },
  {
   "cell_type": "code",
   "execution_count": null,
   "id": "c0ca56f2-85f0-4f3e-b4c8-49600bca70d1",
   "metadata": {},
   "outputs": [
    {
     "data": {
      "text/plain": [
       "10280"
      ]
     },
     "execution_count": 54,
     "metadata": {},
     "output_type": "execute_result"
    }
   ],
   "source": [
    "length"
   ]
  },
  {
   "cell_type": "code",
   "execution_count": null,
   "id": "b5261c08-4717-4fc1-aaa5-532854585588",
   "metadata": {},
   "outputs": [],
   "source": [
    "wessertein_dist = np.zeros(shape=(length, length))"
   ]
  },
  {
   "cell_type": "code",
   "execution_count": null,
   "id": "73c065d4",
   "metadata": {},
   "outputs": [
    {
     "data": {
      "text/plain": [
       "array([[0.00000000e+00, 5.06639481e-06, 0.00000000e+00],\n",
       "       [0.00000000e+00, 5.45382500e-06, 0.00000000e+00],\n",
       "       [0.00000000e+00, 7.83801079e-06, 0.00000000e+00],\n",
       "       ...,\n",
       "       [0.00000000e+00, 2.79704452e-01, 0.00000000e+00],\n",
       "       [0.00000000e+00, 3.19888592e-01, 0.00000000e+00],\n",
       "       [0.00000000e+00, 7.55657578e+00, 0.00000000e+00]])"
      ]
     },
     "execution_count": 56,
     "metadata": {},
     "output_type": "execute_result"
    }
   ],
   "source": [
    "persistence_diagrams[0]"
   ]
  },
  {
   "cell_type": "code",
   "execution_count": null,
   "id": "ff5acef8-1c3b-404e-9762-9e1b94021cfb",
   "metadata": {},
   "outputs": [
    {
     "data": {
      "text/plain": [
       "(10280, 10280)"
      ]
     },
     "execution_count": 59,
     "metadata": {},
     "output_type": "execute_result"
    }
   ],
   "source": [
    "wessertein_dist.shape"
   ]
  },
  {
   "cell_type": "code",
   "execution_count": null,
   "id": "51bf7574-fde1-4664-88f0-970d5325a6be",
   "metadata": {},
   "outputs": [
    {
     "data": {
      "text/plain": [
       "10280"
      ]
     },
     "execution_count": 60,
     "metadata": {},
     "output_type": "execute_result"
    }
   ],
   "source": [
    "len(label)"
   ]
  },
  {
   "cell_type": "code",
   "execution_count": null,
   "id": "decc8b42-e62b-408e-8427-f949985b9e81",
   "metadata": {},
   "outputs": [],
   "source": [
    "df = pd.DataFrame(wessertein_dist, index=label, columns=label)"
   ]
  },
  {
   "cell_type": "code",
   "execution_count": null,
   "id": "2bf00a7f-da2f-4502-966f-10d15df533bb",
   "metadata": {},
   "outputs": [
    {
     "data": {
      "text/html": [
       "<div>\n",
       "<style scoped>\n",
       "    .dataframe tbody tr th:only-of-type {\n",
       "        vertical-align: middle;\n",
       "    }\n",
       "\n",
       "    .dataframe tbody tr th {\n",
       "        vertical-align: top;\n",
       "    }\n",
       "\n",
       "    .dataframe thead th {\n",
       "        text-align: right;\n",
       "    }\n",
       "</style>\n",
       "<table border=\"1\" class=\"dataframe\">\n",
       "  <thead>\n",
       "    <tr style=\"text-align: right;\">\n",
       "      <th></th>\n",
       "      <th>AT1G01020.2 | Symbols: ARV1 |  | chr1:7315-8666 REVERSE LENGTH=191\\n</th>\n",
       "      <th>AT1G01020.6 | Symbols: ARV1 |  | chr1:7315-8419 REVERSE LENGTH=104\\n</th>\n",
       "      <th>AT1G01100.1 | Symbols: RPP1A, RPP1.1 | 60S acidic ribosomal protein P1-1, RPP1 co-orthologous gene 1 | chr1:50284-50954 REVERSE LENGTH=112\\n</th>\n",
       "      <th>AT1G01100.2 | Symbols: RPP1A, RPP1.1 | 60S acidic ribosomal protein P1-1, RPP1 co-orthologous gene 1 | chr1:50284-50954 REVERSE LENGTH=112\\n</th>\n",
       "      <th>AT1G01100.3 | Symbols: RPP1A, RPP1.1 | 60S acidic ribosomal protein P1-1, RPP1 co-orthologous gene 1 | chr1:50284-50954 REVERSE LENGTH=96\\n</th>\n",
       "      <th>AT1G01100.4 | Symbols: RPP1A, RPP1.1 | 60S acidic ribosomal protein P1-1, RPP1 co-orthologous gene 1 | chr1:50284-50954 REVERSE LENGTH=112\\n</th>\n",
       "      <th>AT1G01130.1 | Symbols: no symbol available | no full name available | chr1:61905-63811 REVERSE LENGTH=124\\n</th>\n",
       "      <th>AT1G01160.1 | Symbols: GIF2 | GRF1-interacting factor 2 | chr1:72583-73883 FORWARD LENGTH=195\\n</th>\n",
       "      <th>AT1G01170.1 | Symbols: no symbol available | no full name available | chr1:74105-74443 REVERSE LENGTH=83\\n</th>\n",
       "      <th>AT1G01170.2 | Symbols: no symbol available | no full name available | chr1:74105-74443 REVERSE LENGTH=83\\n</th>\n",
       "      <th>...</th>\n",
       "      <th>ATMG00070.1 | Symbols: NAD9 | NADH dehydrogenase subunit 9 | chrm:24665-25237 FORWARD LENGTH=190\\n</th>\n",
       "      <th>ATMG00080.1 | Symbols: RPL16 | ribosomal protein L16 | chrm:23285-23824 FORWARD LENGTH=179\\n</th>\n",
       "      <th>ATMG00210.1 | Symbols: RPL5 | ribosomal protein L5 | chrm:184762-185319 REVERSE LENGTH=185\\n</th>\n",
       "      <th>ATMG00480.1 | Symbols: ATP8, ORFB | ATP SYNTHASE 8 | chrm:247016-247492 REVERSE LENGTH=158\\n</th>\n",
       "      <th>ATMG00640.1 | Symbols: ORF25 |  | chrm:362206-362784 FORWARD LENGTH=192\\n</th>\n",
       "      <th>ATMG00980.1 | Symbols: RPSL2 |  | chrm:288446-288823 FORWARD LENGTH=125\\n</th>\n",
       "      <th>ATMG00990.1 | Symbols: NAD3 | NADH dehydrogenase 3 | chrm:288044-288400 FORWARD LENGTH=118\\n</th>\n",
       "      <th>ATMG01080.1 | Symbols: ATP9 | mitochondrial F0-ATPase subunit 9 | chrm:270961-271185 REVERSE LENGTH=74\\n</th>\n",
       "      <th>ATMG01270.1 | Symbols: RPS7 | mitochondrial ribosomal protein S7 | chrm:79559-80005 FORWARD LENGTH=148\\n</th>\n",
       "      <th>ATMG01275.1 | Symbols: ND1, NAD1, NAD1C, NAD1A | NADH DEHYDROGENASE 1, NADH dehydrogenase 1A, NADH dehydrogenase 1C, NAD(P)H DEHYDROGENASE 1 | chrm:58315-59481 FORWARD LENGTH=90\\n</th>\n",
       "    </tr>\n",
       "  </thead>\n",
       "  <tbody>\n",
       "    <tr>\n",
       "      <th>AT1G01020.2 | Symbols: ARV1 |  | chr1:7315-8666 REVERSE LENGTH=191\\n</th>\n",
       "      <td>0.000000</td>\n",
       "      <td>0.002341</td>\n",
       "      <td>0.004177</td>\n",
       "      <td>0.004177</td>\n",
       "      <td>0.002867</td>\n",
       "      <td>0.004177</td>\n",
       "      <td>0.003282</td>\n",
       "      <td>0.006169</td>\n",
       "      <td>0.002265</td>\n",
       "      <td>0.002265</td>\n",
       "      <td>...</td>\n",
       "      <td>0.002429</td>\n",
       "      <td>0.003655</td>\n",
       "      <td>0.002427</td>\n",
       "      <td>0.001466</td>\n",
       "      <td>0.002080</td>\n",
       "      <td>0.003497</td>\n",
       "      <td>0.001379</td>\n",
       "      <td>0.000711</td>\n",
       "      <td>0.004055</td>\n",
       "      <td>0.001154</td>\n",
       "    </tr>\n",
       "    <tr>\n",
       "      <th>AT1G01020.6 | Symbols: ARV1 |  | chr1:7315-8419 REVERSE LENGTH=104\\n</th>\n",
       "      <td>0.002341</td>\n",
       "      <td>0.000000</td>\n",
       "      <td>0.005682</td>\n",
       "      <td>0.005682</td>\n",
       "      <td>0.004185</td>\n",
       "      <td>0.005682</td>\n",
       "      <td>0.001044</td>\n",
       "      <td>0.007646</td>\n",
       "      <td>0.000654</td>\n",
       "      <td>0.000654</td>\n",
       "      <td>...</td>\n",
       "      <td>0.000475</td>\n",
       "      <td>0.001551</td>\n",
       "      <td>0.000858</td>\n",
       "      <td>0.001155</td>\n",
       "      <td>0.000957</td>\n",
       "      <td>0.001724</td>\n",
       "      <td>0.001875</td>\n",
       "      <td>0.002058</td>\n",
       "      <td>0.002221</td>\n",
       "      <td>0.002937</td>\n",
       "    </tr>\n",
       "    <tr>\n",
       "      <th>AT1G01100.1 | Symbols: RPP1A, RPP1.1 | 60S acidic ribosomal protein P1-1, RPP1 co-orthologous gene 1 | chr1:50284-50954 REVERSE LENGTH=112\\n</th>\n",
       "      <td>0.004177</td>\n",
       "      <td>0.005682</td>\n",
       "      <td>0.000000</td>\n",
       "      <td>0.000000</td>\n",
       "      <td>0.002294</td>\n",
       "      <td>0.000000</td>\n",
       "      <td>0.006351</td>\n",
       "      <td>0.003700</td>\n",
       "      <td>0.005692</td>\n",
       "      <td>0.005692</td>\n",
       "      <td>...</td>\n",
       "      <td>0.005975</td>\n",
       "      <td>0.006996</td>\n",
       "      <td>0.006069</td>\n",
       "      <td>0.004850</td>\n",
       "      <td>0.005593</td>\n",
       "      <td>0.006989</td>\n",
       "      <td>0.004748</td>\n",
       "      <td>0.004317</td>\n",
       "      <td>0.007330</td>\n",
       "      <td>0.004736</td>\n",
       "    </tr>\n",
       "    <tr>\n",
       "      <th>AT1G01100.2 | Symbols: RPP1A, RPP1.1 | 60S acidic ribosomal protein P1-1, RPP1 co-orthologous gene 1 | chr1:50284-50954 REVERSE LENGTH=112\\n</th>\n",
       "      <td>0.004177</td>\n",
       "      <td>0.005682</td>\n",
       "      <td>0.000000</td>\n",
       "      <td>0.000000</td>\n",
       "      <td>0.002294</td>\n",
       "      <td>0.000000</td>\n",
       "      <td>0.006351</td>\n",
       "      <td>0.003700</td>\n",
       "      <td>0.005692</td>\n",
       "      <td>0.005692</td>\n",
       "      <td>...</td>\n",
       "      <td>0.005975</td>\n",
       "      <td>0.006996</td>\n",
       "      <td>0.006069</td>\n",
       "      <td>0.004850</td>\n",
       "      <td>0.005593</td>\n",
       "      <td>0.006989</td>\n",
       "      <td>0.004748</td>\n",
       "      <td>0.004317</td>\n",
       "      <td>0.007330</td>\n",
       "      <td>0.004736</td>\n",
       "    </tr>\n",
       "    <tr>\n",
       "      <th>AT1G01100.3 | Symbols: RPP1A, RPP1.1 | 60S acidic ribosomal protein P1-1, RPP1 co-orthologous gene 1 | chr1:50284-50954 REVERSE LENGTH=96\\n</th>\n",
       "      <td>0.002867</td>\n",
       "      <td>0.004185</td>\n",
       "      <td>0.002294</td>\n",
       "      <td>0.002294</td>\n",
       "      <td>0.000000</td>\n",
       "      <td>0.002294</td>\n",
       "      <td>0.004750</td>\n",
       "      <td>0.005542</td>\n",
       "      <td>0.004505</td>\n",
       "      <td>0.004505</td>\n",
       "      <td>...</td>\n",
       "      <td>0.004627</td>\n",
       "      <td>0.005569</td>\n",
       "      <td>0.004814</td>\n",
       "      <td>0.003575</td>\n",
       "      <td>0.004459</td>\n",
       "      <td>0.005693</td>\n",
       "      <td>0.003569</td>\n",
       "      <td>0.002848</td>\n",
       "      <td>0.005468</td>\n",
       "      <td>0.003333</td>\n",
       "    </tr>\n",
       "    <tr>\n",
       "      <th>...</th>\n",
       "      <td>...</td>\n",
       "      <td>...</td>\n",
       "      <td>...</td>\n",
       "      <td>...</td>\n",
       "      <td>...</td>\n",
       "      <td>...</td>\n",
       "      <td>...</td>\n",
       "      <td>...</td>\n",
       "      <td>...</td>\n",
       "      <td>...</td>\n",
       "      <td>...</td>\n",
       "      <td>...</td>\n",
       "      <td>...</td>\n",
       "      <td>...</td>\n",
       "      <td>...</td>\n",
       "      <td>...</td>\n",
       "      <td>...</td>\n",
       "      <td>...</td>\n",
       "      <td>...</td>\n",
       "      <td>...</td>\n",
       "      <td>...</td>\n",
       "    </tr>\n",
       "    <tr>\n",
       "      <th>ATMG00980.1 | Symbols: RPSL2 |  | chrm:288446-288823 FORWARD LENGTH=125\\n</th>\n",
       "      <td>0.003497</td>\n",
       "      <td>0.001724</td>\n",
       "      <td>0.006989</td>\n",
       "      <td>0.006989</td>\n",
       "      <td>0.005693</td>\n",
       "      <td>0.006989</td>\n",
       "      <td>0.001605</td>\n",
       "      <td>0.008705</td>\n",
       "      <td>0.001554</td>\n",
       "      <td>0.001554</td>\n",
       "      <td>...</td>\n",
       "      <td>0.001628</td>\n",
       "      <td>0.000821</td>\n",
       "      <td>0.001534</td>\n",
       "      <td>0.002345</td>\n",
       "      <td>0.001897</td>\n",
       "      <td>0.000000</td>\n",
       "      <td>0.003047</td>\n",
       "      <td>0.003319</td>\n",
       "      <td>0.001342</td>\n",
       "      <td>0.004269</td>\n",
       "    </tr>\n",
       "    <tr>\n",
       "      <th>ATMG00990.1 | Symbols: NAD3 | NADH dehydrogenase 3 | chrm:288044-288400 FORWARD LENGTH=118\\n</th>\n",
       "      <td>0.001379</td>\n",
       "      <td>0.001875</td>\n",
       "      <td>0.004748</td>\n",
       "      <td>0.004748</td>\n",
       "      <td>0.003569</td>\n",
       "      <td>0.004748</td>\n",
       "      <td>0.002367</td>\n",
       "      <td>0.006589</td>\n",
       "      <td>0.002010</td>\n",
       "      <td>0.002010</td>\n",
       "      <td>...</td>\n",
       "      <td>0.001768</td>\n",
       "      <td>0.002786</td>\n",
       "      <td>0.002196</td>\n",
       "      <td>0.000956</td>\n",
       "      <td>0.001444</td>\n",
       "      <td>0.003047</td>\n",
       "      <td>0.000000</td>\n",
       "      <td>0.001234</td>\n",
       "      <td>0.003557</td>\n",
       "      <td>0.001444</td>\n",
       "    </tr>\n",
       "    <tr>\n",
       "      <th>ATMG01080.1 | Symbols: ATP9 | mitochondrial F0-ATPase subunit 9 | chrm:270961-271185 REVERSE LENGTH=74\\n</th>\n",
       "      <td>0.000711</td>\n",
       "      <td>0.002058</td>\n",
       "      <td>0.004317</td>\n",
       "      <td>0.004317</td>\n",
       "      <td>0.002848</td>\n",
       "      <td>0.004317</td>\n",
       "      <td>0.002786</td>\n",
       "      <td>0.006141</td>\n",
       "      <td>0.002257</td>\n",
       "      <td>0.002257</td>\n",
       "      <td>...</td>\n",
       "      <td>0.002105</td>\n",
       "      <td>0.003350</td>\n",
       "      <td>0.002325</td>\n",
       "      <td>0.001204</td>\n",
       "      <td>0.001889</td>\n",
       "      <td>0.003319</td>\n",
       "      <td>0.001234</td>\n",
       "      <td>0.000000</td>\n",
       "      <td>0.003825</td>\n",
       "      <td>0.001233</td>\n",
       "    </tr>\n",
       "    <tr>\n",
       "      <th>ATMG01270.1 | Symbols: RPS7 | mitochondrial ribosomal protein S7 | chrm:79559-80005 FORWARD LENGTH=148\\n</th>\n",
       "      <td>0.004055</td>\n",
       "      <td>0.002221</td>\n",
       "      <td>0.007330</td>\n",
       "      <td>0.007330</td>\n",
       "      <td>0.005468</td>\n",
       "      <td>0.007330</td>\n",
       "      <td>0.001784</td>\n",
       "      <td>0.009770</td>\n",
       "      <td>0.002483</td>\n",
       "      <td>0.002483</td>\n",
       "      <td>...</td>\n",
       "      <td>0.002445</td>\n",
       "      <td>0.001482</td>\n",
       "      <td>0.002604</td>\n",
       "      <td>0.003156</td>\n",
       "      <td>0.002898</td>\n",
       "      <td>0.001342</td>\n",
       "      <td>0.003557</td>\n",
       "      <td>0.003825</td>\n",
       "      <td>0.000000</td>\n",
       "      <td>0.004453</td>\n",
       "    </tr>\n",
       "    <tr>\n",
       "      <th>ATMG01275.1 | Symbols: ND1, NAD1, NAD1C, NAD1A | NADH DEHYDROGENASE 1, NADH dehydrogenase 1A, NADH dehydrogenase 1C, NAD(P)H DEHYDROGENASE 1 | chrm:58315-59481 FORWARD LENGTH=90\\n</th>\n",
       "      <td>0.001154</td>\n",
       "      <td>0.002937</td>\n",
       "      <td>0.004736</td>\n",
       "      <td>0.004736</td>\n",
       "      <td>0.003333</td>\n",
       "      <td>0.004736</td>\n",
       "      <td>0.003436</td>\n",
       "      <td>0.006592</td>\n",
       "      <td>0.003215</td>\n",
       "      <td>0.003215</td>\n",
       "      <td>...</td>\n",
       "      <td>0.002856</td>\n",
       "      <td>0.003968</td>\n",
       "      <td>0.003381</td>\n",
       "      <td>0.002101</td>\n",
       "      <td>0.002660</td>\n",
       "      <td>0.004269</td>\n",
       "      <td>0.001444</td>\n",
       "      <td>0.001233</td>\n",
       "      <td>0.004453</td>\n",
       "      <td>0.000000</td>\n",
       "    </tr>\n",
       "  </tbody>\n",
       "</table>\n",
       "<p>10280 rows × 10280 columns</p>\n",
       "</div>"
      ],
      "text/plain": [
       "                                                    AT1G01020.2 | Symbols: ARV1 |  | chr1:7315-8666 REVERSE LENGTH=191\\n  \\\n",
       "AT1G01020.2 | Symbols: ARV1 |  | chr1:7315-8666...                                           0.000000                      \n",
       "AT1G01020.6 | Symbols: ARV1 |  | chr1:7315-8419...                                           0.002341                      \n",
       "AT1G01100.1 | Symbols: RPP1A, RPP1.1 | 60S acid...                                           0.004177                      \n",
       "AT1G01100.2 | Symbols: RPP1A, RPP1.1 | 60S acid...                                           0.004177                      \n",
       "AT1G01100.3 | Symbols: RPP1A, RPP1.1 | 60S acid...                                           0.002867                      \n",
       "...                                                                                               ...                      \n",
       "ATMG00980.1 | Symbols: RPSL2 |  | chrm:288446-2...                                           0.003497                      \n",
       "ATMG00990.1 | Symbols: NAD3 | NADH dehydrogenas...                                           0.001379                      \n",
       "ATMG01080.1 | Symbols: ATP9 | mitochondrial F0-...                                           0.000711                      \n",
       "ATMG01270.1 | Symbols: RPS7 | mitochondrial rib...                                           0.004055                      \n",
       "ATMG01275.1 | Symbols: ND1, NAD1, NAD1C, NAD1A ...                                           0.001154                      \n",
       "\n",
       "                                                    AT1G01020.6 | Symbols: ARV1 |  | chr1:7315-8419 REVERSE LENGTH=104\\n  \\\n",
       "AT1G01020.2 | Symbols: ARV1 |  | chr1:7315-8666...                                           0.002341                      \n",
       "AT1G01020.6 | Symbols: ARV1 |  | chr1:7315-8419...                                           0.000000                      \n",
       "AT1G01100.1 | Symbols: RPP1A, RPP1.1 | 60S acid...                                           0.005682                      \n",
       "AT1G01100.2 | Symbols: RPP1A, RPP1.1 | 60S acid...                                           0.005682                      \n",
       "AT1G01100.3 | Symbols: RPP1A, RPP1.1 | 60S acid...                                           0.004185                      \n",
       "...                                                                                               ...                      \n",
       "ATMG00980.1 | Symbols: RPSL2 |  | chrm:288446-2...                                           0.001724                      \n",
       "ATMG00990.1 | Symbols: NAD3 | NADH dehydrogenas...                                           0.001875                      \n",
       "ATMG01080.1 | Symbols: ATP9 | mitochondrial F0-...                                           0.002058                      \n",
       "ATMG01270.1 | Symbols: RPS7 | mitochondrial rib...                                           0.002221                      \n",
       "ATMG01275.1 | Symbols: ND1, NAD1, NAD1C, NAD1A ...                                           0.002937                      \n",
       "\n",
       "                                                    AT1G01100.1 | Symbols: RPP1A, RPP1.1 | 60S acidic ribosomal protein P1-1, RPP1 co-orthologous gene 1 | chr1:50284-50954 REVERSE LENGTH=112\\n  \\\n",
       "AT1G01020.2 | Symbols: ARV1 |  | chr1:7315-8666...                                           0.004177                                                                                              \n",
       "AT1G01020.6 | Symbols: ARV1 |  | chr1:7315-8419...                                           0.005682                                                                                              \n",
       "AT1G01100.1 | Symbols: RPP1A, RPP1.1 | 60S acid...                                           0.000000                                                                                              \n",
       "AT1G01100.2 | Symbols: RPP1A, RPP1.1 | 60S acid...                                           0.000000                                                                                              \n",
       "AT1G01100.3 | Symbols: RPP1A, RPP1.1 | 60S acid...                                           0.002294                                                                                              \n",
       "...                                                                                               ...                                                                                              \n",
       "ATMG00980.1 | Symbols: RPSL2 |  | chrm:288446-2...                                           0.006989                                                                                              \n",
       "ATMG00990.1 | Symbols: NAD3 | NADH dehydrogenas...                                           0.004748                                                                                              \n",
       "ATMG01080.1 | Symbols: ATP9 | mitochondrial F0-...                                           0.004317                                                                                              \n",
       "ATMG01270.1 | Symbols: RPS7 | mitochondrial rib...                                           0.007330                                                                                              \n",
       "ATMG01275.1 | Symbols: ND1, NAD1, NAD1C, NAD1A ...                                           0.004736                                                                                              \n",
       "\n",
       "                                                    AT1G01100.2 | Symbols: RPP1A, RPP1.1 | 60S acidic ribosomal protein P1-1, RPP1 co-orthologous gene 1 | chr1:50284-50954 REVERSE LENGTH=112\\n  \\\n",
       "AT1G01020.2 | Symbols: ARV1 |  | chr1:7315-8666...                                           0.004177                                                                                              \n",
       "AT1G01020.6 | Symbols: ARV1 |  | chr1:7315-8419...                                           0.005682                                                                                              \n",
       "AT1G01100.1 | Symbols: RPP1A, RPP1.1 | 60S acid...                                           0.000000                                                                                              \n",
       "AT1G01100.2 | Symbols: RPP1A, RPP1.1 | 60S acid...                                           0.000000                                                                                              \n",
       "AT1G01100.3 | Symbols: RPP1A, RPP1.1 | 60S acid...                                           0.002294                                                                                              \n",
       "...                                                                                               ...                                                                                              \n",
       "ATMG00980.1 | Symbols: RPSL2 |  | chrm:288446-2...                                           0.006989                                                                                              \n",
       "ATMG00990.1 | Symbols: NAD3 | NADH dehydrogenas...                                           0.004748                                                                                              \n",
       "ATMG01080.1 | Symbols: ATP9 | mitochondrial F0-...                                           0.004317                                                                                              \n",
       "ATMG01270.1 | Symbols: RPS7 | mitochondrial rib...                                           0.007330                                                                                              \n",
       "ATMG01275.1 | Symbols: ND1, NAD1, NAD1C, NAD1A ...                                           0.004736                                                                                              \n",
       "\n",
       "                                                    AT1G01100.3 | Symbols: RPP1A, RPP1.1 | 60S acidic ribosomal protein P1-1, RPP1 co-orthologous gene 1 | chr1:50284-50954 REVERSE LENGTH=96\\n  \\\n",
       "AT1G01020.2 | Symbols: ARV1 |  | chr1:7315-8666...                                           0.002867                                                                                             \n",
       "AT1G01020.6 | Symbols: ARV1 |  | chr1:7315-8419...                                           0.004185                                                                                             \n",
       "AT1G01100.1 | Symbols: RPP1A, RPP1.1 | 60S acid...                                           0.002294                                                                                             \n",
       "AT1G01100.2 | Symbols: RPP1A, RPP1.1 | 60S acid...                                           0.002294                                                                                             \n",
       "AT1G01100.3 | Symbols: RPP1A, RPP1.1 | 60S acid...                                           0.000000                                                                                             \n",
       "...                                                                                               ...                                                                                             \n",
       "ATMG00980.1 | Symbols: RPSL2 |  | chrm:288446-2...                                           0.005693                                                                                             \n",
       "ATMG00990.1 | Symbols: NAD3 | NADH dehydrogenas...                                           0.003569                                                                                             \n",
       "ATMG01080.1 | Symbols: ATP9 | mitochondrial F0-...                                           0.002848                                                                                             \n",
       "ATMG01270.1 | Symbols: RPS7 | mitochondrial rib...                                           0.005468                                                                                             \n",
       "ATMG01275.1 | Symbols: ND1, NAD1, NAD1C, NAD1A ...                                           0.003333                                                                                             \n",
       "\n",
       "                                                    AT1G01100.4 | Symbols: RPP1A, RPP1.1 | 60S acidic ribosomal protein P1-1, RPP1 co-orthologous gene 1 | chr1:50284-50954 REVERSE LENGTH=112\\n  \\\n",
       "AT1G01020.2 | Symbols: ARV1 |  | chr1:7315-8666...                                           0.004177                                                                                              \n",
       "AT1G01020.6 | Symbols: ARV1 |  | chr1:7315-8419...                                           0.005682                                                                                              \n",
       "AT1G01100.1 | Symbols: RPP1A, RPP1.1 | 60S acid...                                           0.000000                                                                                              \n",
       "AT1G01100.2 | Symbols: RPP1A, RPP1.1 | 60S acid...                                           0.000000                                                                                              \n",
       "AT1G01100.3 | Symbols: RPP1A, RPP1.1 | 60S acid...                                           0.002294                                                                                              \n",
       "...                                                                                               ...                                                                                              \n",
       "ATMG00980.1 | Symbols: RPSL2 |  | chrm:288446-2...                                           0.006989                                                                                              \n",
       "ATMG00990.1 | Symbols: NAD3 | NADH dehydrogenas...                                           0.004748                                                                                              \n",
       "ATMG01080.1 | Symbols: ATP9 | mitochondrial F0-...                                           0.004317                                                                                              \n",
       "ATMG01270.1 | Symbols: RPS7 | mitochondrial rib...                                           0.007330                                                                                              \n",
       "ATMG01275.1 | Symbols: ND1, NAD1, NAD1C, NAD1A ...                                           0.004736                                                                                              \n",
       "\n",
       "                                                    AT1G01130.1 | Symbols: no symbol available | no full name available | chr1:61905-63811 REVERSE LENGTH=124\\n  \\\n",
       "AT1G01020.2 | Symbols: ARV1 |  | chr1:7315-8666...                                           0.003282                                                             \n",
       "AT1G01020.6 | Symbols: ARV1 |  | chr1:7315-8419...                                           0.001044                                                             \n",
       "AT1G01100.1 | Symbols: RPP1A, RPP1.1 | 60S acid...                                           0.006351                                                             \n",
       "AT1G01100.2 | Symbols: RPP1A, RPP1.1 | 60S acid...                                           0.006351                                                             \n",
       "AT1G01100.3 | Symbols: RPP1A, RPP1.1 | 60S acid...                                           0.004750                                                             \n",
       "...                                                                                               ...                                                             \n",
       "ATMG00980.1 | Symbols: RPSL2 |  | chrm:288446-2...                                           0.001605                                                             \n",
       "ATMG00990.1 | Symbols: NAD3 | NADH dehydrogenas...                                           0.002367                                                             \n",
       "ATMG01080.1 | Symbols: ATP9 | mitochondrial F0-...                                           0.002786                                                             \n",
       "ATMG01270.1 | Symbols: RPS7 | mitochondrial rib...                                           0.001784                                                             \n",
       "ATMG01275.1 | Symbols: ND1, NAD1, NAD1C, NAD1A ...                                           0.003436                                                             \n",
       "\n",
       "                                                    AT1G01160.1 | Symbols: GIF2 | GRF1-interacting factor 2 | chr1:72583-73883 FORWARD LENGTH=195\\n  \\\n",
       "AT1G01020.2 | Symbols: ARV1 |  | chr1:7315-8666...                                           0.006169                                                 \n",
       "AT1G01020.6 | Symbols: ARV1 |  | chr1:7315-8419...                                           0.007646                                                 \n",
       "AT1G01100.1 | Symbols: RPP1A, RPP1.1 | 60S acid...                                           0.003700                                                 \n",
       "AT1G01100.2 | Symbols: RPP1A, RPP1.1 | 60S acid...                                           0.003700                                                 \n",
       "AT1G01100.3 | Symbols: RPP1A, RPP1.1 | 60S acid...                                           0.005542                                                 \n",
       "...                                                                                               ...                                                 \n",
       "ATMG00980.1 | Symbols: RPSL2 |  | chrm:288446-2...                                           0.008705                                                 \n",
       "ATMG00990.1 | Symbols: NAD3 | NADH dehydrogenas...                                           0.006589                                                 \n",
       "ATMG01080.1 | Symbols: ATP9 | mitochondrial F0-...                                           0.006141                                                 \n",
       "ATMG01270.1 | Symbols: RPS7 | mitochondrial rib...                                           0.009770                                                 \n",
       "ATMG01275.1 | Symbols: ND1, NAD1, NAD1C, NAD1A ...                                           0.006592                                                 \n",
       "\n",
       "                                                    AT1G01170.1 | Symbols: no symbol available | no full name available | chr1:74105-74443 REVERSE LENGTH=83\\n  \\\n",
       "AT1G01020.2 | Symbols: ARV1 |  | chr1:7315-8666...                                           0.002265                                                            \n",
       "AT1G01020.6 | Symbols: ARV1 |  | chr1:7315-8419...                                           0.000654                                                            \n",
       "AT1G01100.1 | Symbols: RPP1A, RPP1.1 | 60S acid...                                           0.005692                                                            \n",
       "AT1G01100.2 | Symbols: RPP1A, RPP1.1 | 60S acid...                                           0.005692                                                            \n",
       "AT1G01100.3 | Symbols: RPP1A, RPP1.1 | 60S acid...                                           0.004505                                                            \n",
       "...                                                                                               ...                                                            \n",
       "ATMG00980.1 | Symbols: RPSL2 |  | chrm:288446-2...                                           0.001554                                                            \n",
       "ATMG00990.1 | Symbols: NAD3 | NADH dehydrogenas...                                           0.002010                                                            \n",
       "ATMG01080.1 | Symbols: ATP9 | mitochondrial F0-...                                           0.002257                                                            \n",
       "ATMG01270.1 | Symbols: RPS7 | mitochondrial rib...                                           0.002483                                                            \n",
       "ATMG01275.1 | Symbols: ND1, NAD1, NAD1C, NAD1A ...                                           0.003215                                                            \n",
       "\n",
       "                                                    AT1G01170.2 | Symbols: no symbol available | no full name available | chr1:74105-74443 REVERSE LENGTH=83\\n  \\\n",
       "AT1G01020.2 | Symbols: ARV1 |  | chr1:7315-8666...                                           0.002265                                                            \n",
       "AT1G01020.6 | Symbols: ARV1 |  | chr1:7315-8419...                                           0.000654                                                            \n",
       "AT1G01100.1 | Symbols: RPP1A, RPP1.1 | 60S acid...                                           0.005692                                                            \n",
       "AT1G01100.2 | Symbols: RPP1A, RPP1.1 | 60S acid...                                           0.005692                                                            \n",
       "AT1G01100.3 | Symbols: RPP1A, RPP1.1 | 60S acid...                                           0.004505                                                            \n",
       "...                                                                                               ...                                                            \n",
       "ATMG00980.1 | Symbols: RPSL2 |  | chrm:288446-2...                                           0.001554                                                            \n",
       "ATMG00990.1 | Symbols: NAD3 | NADH dehydrogenas...                                           0.002010                                                            \n",
       "ATMG01080.1 | Symbols: ATP9 | mitochondrial F0-...                                           0.002257                                                            \n",
       "ATMG01270.1 | Symbols: RPS7 | mitochondrial rib...                                           0.002483                                                            \n",
       "ATMG01275.1 | Symbols: ND1, NAD1, NAD1C, NAD1A ...                                           0.003215                                                            \n",
       "\n",
       "                                                    ...  \\\n",
       "AT1G01020.2 | Symbols: ARV1 |  | chr1:7315-8666...  ...   \n",
       "AT1G01020.6 | Symbols: ARV1 |  | chr1:7315-8419...  ...   \n",
       "AT1G01100.1 | Symbols: RPP1A, RPP1.1 | 60S acid...  ...   \n",
       "AT1G01100.2 | Symbols: RPP1A, RPP1.1 | 60S acid...  ...   \n",
       "AT1G01100.3 | Symbols: RPP1A, RPP1.1 | 60S acid...  ...   \n",
       "...                                                 ...   \n",
       "ATMG00980.1 | Symbols: RPSL2 |  | chrm:288446-2...  ...   \n",
       "ATMG00990.1 | Symbols: NAD3 | NADH dehydrogenas...  ...   \n",
       "ATMG01080.1 | Symbols: ATP9 | mitochondrial F0-...  ...   \n",
       "ATMG01270.1 | Symbols: RPS7 | mitochondrial rib...  ...   \n",
       "ATMG01275.1 | Symbols: ND1, NAD1, NAD1C, NAD1A ...  ...   \n",
       "\n",
       "                                                    ATMG00070.1 | Symbols: NAD9 | NADH dehydrogenase subunit 9 | chrm:24665-25237 FORWARD LENGTH=190\\n  \\\n",
       "AT1G01020.2 | Symbols: ARV1 |  | chr1:7315-8666...                                           0.002429                                                    \n",
       "AT1G01020.6 | Symbols: ARV1 |  | chr1:7315-8419...                                           0.000475                                                    \n",
       "AT1G01100.1 | Symbols: RPP1A, RPP1.1 | 60S acid...                                           0.005975                                                    \n",
       "AT1G01100.2 | Symbols: RPP1A, RPP1.1 | 60S acid...                                           0.005975                                                    \n",
       "AT1G01100.3 | Symbols: RPP1A, RPP1.1 | 60S acid...                                           0.004627                                                    \n",
       "...                                                                                               ...                                                    \n",
       "ATMG00980.1 | Symbols: RPSL2 |  | chrm:288446-2...                                           0.001628                                                    \n",
       "ATMG00990.1 | Symbols: NAD3 | NADH dehydrogenas...                                           0.001768                                                    \n",
       "ATMG01080.1 | Symbols: ATP9 | mitochondrial F0-...                                           0.002105                                                    \n",
       "ATMG01270.1 | Symbols: RPS7 | mitochondrial rib...                                           0.002445                                                    \n",
       "ATMG01275.1 | Symbols: ND1, NAD1, NAD1C, NAD1A ...                                           0.002856                                                    \n",
       "\n",
       "                                                    ATMG00080.1 | Symbols: RPL16 | ribosomal protein L16 | chrm:23285-23824 FORWARD LENGTH=179\\n  \\\n",
       "AT1G01020.2 | Symbols: ARV1 |  | chr1:7315-8666...                                           0.003655                                              \n",
       "AT1G01020.6 | Symbols: ARV1 |  | chr1:7315-8419...                                           0.001551                                              \n",
       "AT1G01100.1 | Symbols: RPP1A, RPP1.1 | 60S acid...                                           0.006996                                              \n",
       "AT1G01100.2 | Symbols: RPP1A, RPP1.1 | 60S acid...                                           0.006996                                              \n",
       "AT1G01100.3 | Symbols: RPP1A, RPP1.1 | 60S acid...                                           0.005569                                              \n",
       "...                                                                                               ...                                              \n",
       "ATMG00980.1 | Symbols: RPSL2 |  | chrm:288446-2...                                           0.000821                                              \n",
       "ATMG00990.1 | Symbols: NAD3 | NADH dehydrogenas...                                           0.002786                                              \n",
       "ATMG01080.1 | Symbols: ATP9 | mitochondrial F0-...                                           0.003350                                              \n",
       "ATMG01270.1 | Symbols: RPS7 | mitochondrial rib...                                           0.001482                                              \n",
       "ATMG01275.1 | Symbols: ND1, NAD1, NAD1C, NAD1A ...                                           0.003968                                              \n",
       "\n",
       "                                                    ATMG00210.1 | Symbols: RPL5 | ribosomal protein L5 | chrm:184762-185319 REVERSE LENGTH=185\\n  \\\n",
       "AT1G01020.2 | Symbols: ARV1 |  | chr1:7315-8666...                                           0.002427                                              \n",
       "AT1G01020.6 | Symbols: ARV1 |  | chr1:7315-8419...                                           0.000858                                              \n",
       "AT1G01100.1 | Symbols: RPP1A, RPP1.1 | 60S acid...                                           0.006069                                              \n",
       "AT1G01100.2 | Symbols: RPP1A, RPP1.1 | 60S acid...                                           0.006069                                              \n",
       "AT1G01100.3 | Symbols: RPP1A, RPP1.1 | 60S acid...                                           0.004814                                              \n",
       "...                                                                                               ...                                              \n",
       "ATMG00980.1 | Symbols: RPSL2 |  | chrm:288446-2...                                           0.001534                                              \n",
       "ATMG00990.1 | Symbols: NAD3 | NADH dehydrogenas...                                           0.002196                                              \n",
       "ATMG01080.1 | Symbols: ATP9 | mitochondrial F0-...                                           0.002325                                              \n",
       "ATMG01270.1 | Symbols: RPS7 | mitochondrial rib...                                           0.002604                                              \n",
       "ATMG01275.1 | Symbols: ND1, NAD1, NAD1C, NAD1A ...                                           0.003381                                              \n",
       "\n",
       "                                                    ATMG00480.1 | Symbols: ATP8, ORFB | ATP SYNTHASE 8 | chrm:247016-247492 REVERSE LENGTH=158\\n  \\\n",
       "AT1G01020.2 | Symbols: ARV1 |  | chr1:7315-8666...                                           0.001466                                              \n",
       "AT1G01020.6 | Symbols: ARV1 |  | chr1:7315-8419...                                           0.001155                                              \n",
       "AT1G01100.1 | Symbols: RPP1A, RPP1.1 | 60S acid...                                           0.004850                                              \n",
       "AT1G01100.2 | Symbols: RPP1A, RPP1.1 | 60S acid...                                           0.004850                                              \n",
       "AT1G01100.3 | Symbols: RPP1A, RPP1.1 | 60S acid...                                           0.003575                                              \n",
       "...                                                                                               ...                                              \n",
       "ATMG00980.1 | Symbols: RPSL2 |  | chrm:288446-2...                                           0.002345                                              \n",
       "ATMG00990.1 | Symbols: NAD3 | NADH dehydrogenas...                                           0.000956                                              \n",
       "ATMG01080.1 | Symbols: ATP9 | mitochondrial F0-...                                           0.001204                                              \n",
       "ATMG01270.1 | Symbols: RPS7 | mitochondrial rib...                                           0.003156                                              \n",
       "ATMG01275.1 | Symbols: ND1, NAD1, NAD1C, NAD1A ...                                           0.002101                                              \n",
       "\n",
       "                                                    ATMG00640.1 | Symbols: ORF25 |  | chrm:362206-362784 FORWARD LENGTH=192\\n  \\\n",
       "AT1G01020.2 | Symbols: ARV1 |  | chr1:7315-8666...                                           0.002080                           \n",
       "AT1G01020.6 | Symbols: ARV1 |  | chr1:7315-8419...                                           0.000957                           \n",
       "AT1G01100.1 | Symbols: RPP1A, RPP1.1 | 60S acid...                                           0.005593                           \n",
       "AT1G01100.2 | Symbols: RPP1A, RPP1.1 | 60S acid...                                           0.005593                           \n",
       "AT1G01100.3 | Symbols: RPP1A, RPP1.1 | 60S acid...                                           0.004459                           \n",
       "...                                                                                               ...                           \n",
       "ATMG00980.1 | Symbols: RPSL2 |  | chrm:288446-2...                                           0.001897                           \n",
       "ATMG00990.1 | Symbols: NAD3 | NADH dehydrogenas...                                           0.001444                           \n",
       "ATMG01080.1 | Symbols: ATP9 | mitochondrial F0-...                                           0.001889                           \n",
       "ATMG01270.1 | Symbols: RPS7 | mitochondrial rib...                                           0.002898                           \n",
       "ATMG01275.1 | Symbols: ND1, NAD1, NAD1C, NAD1A ...                                           0.002660                           \n",
       "\n",
       "                                                    ATMG00980.1 | Symbols: RPSL2 |  | chrm:288446-288823 FORWARD LENGTH=125\\n  \\\n",
       "AT1G01020.2 | Symbols: ARV1 |  | chr1:7315-8666...                                           0.003497                           \n",
       "AT1G01020.6 | Symbols: ARV1 |  | chr1:7315-8419...                                           0.001724                           \n",
       "AT1G01100.1 | Symbols: RPP1A, RPP1.1 | 60S acid...                                           0.006989                           \n",
       "AT1G01100.2 | Symbols: RPP1A, RPP1.1 | 60S acid...                                           0.006989                           \n",
       "AT1G01100.3 | Symbols: RPP1A, RPP1.1 | 60S acid...                                           0.005693                           \n",
       "...                                                                                               ...                           \n",
       "ATMG00980.1 | Symbols: RPSL2 |  | chrm:288446-2...                                           0.000000                           \n",
       "ATMG00990.1 | Symbols: NAD3 | NADH dehydrogenas...                                           0.003047                           \n",
       "ATMG01080.1 | Symbols: ATP9 | mitochondrial F0-...                                           0.003319                           \n",
       "ATMG01270.1 | Symbols: RPS7 | mitochondrial rib...                                           0.001342                           \n",
       "ATMG01275.1 | Symbols: ND1, NAD1, NAD1C, NAD1A ...                                           0.004269                           \n",
       "\n",
       "                                                    ATMG00990.1 | Symbols: NAD3 | NADH dehydrogenase 3 | chrm:288044-288400 FORWARD LENGTH=118\\n  \\\n",
       "AT1G01020.2 | Symbols: ARV1 |  | chr1:7315-8666...                                           0.001379                                              \n",
       "AT1G01020.6 | Symbols: ARV1 |  | chr1:7315-8419...                                           0.001875                                              \n",
       "AT1G01100.1 | Symbols: RPP1A, RPP1.1 | 60S acid...                                           0.004748                                              \n",
       "AT1G01100.2 | Symbols: RPP1A, RPP1.1 | 60S acid...                                           0.004748                                              \n",
       "AT1G01100.3 | Symbols: RPP1A, RPP1.1 | 60S acid...                                           0.003569                                              \n",
       "...                                                                                               ...                                              \n",
       "ATMG00980.1 | Symbols: RPSL2 |  | chrm:288446-2...                                           0.003047                                              \n",
       "ATMG00990.1 | Symbols: NAD3 | NADH dehydrogenas...                                           0.000000                                              \n",
       "ATMG01080.1 | Symbols: ATP9 | mitochondrial F0-...                                           0.001234                                              \n",
       "ATMG01270.1 | Symbols: RPS7 | mitochondrial rib...                                           0.003557                                              \n",
       "ATMG01275.1 | Symbols: ND1, NAD1, NAD1C, NAD1A ...                                           0.001444                                              \n",
       "\n",
       "                                                    ATMG01080.1 | Symbols: ATP9 | mitochondrial F0-ATPase subunit 9 | chrm:270961-271185 REVERSE LENGTH=74\\n  \\\n",
       "AT1G01020.2 | Symbols: ARV1 |  | chr1:7315-8666...                                           0.000711                                                          \n",
       "AT1G01020.6 | Symbols: ARV1 |  | chr1:7315-8419...                                           0.002058                                                          \n",
       "AT1G01100.1 | Symbols: RPP1A, RPP1.1 | 60S acid...                                           0.004317                                                          \n",
       "AT1G01100.2 | Symbols: RPP1A, RPP1.1 | 60S acid...                                           0.004317                                                          \n",
       "AT1G01100.3 | Symbols: RPP1A, RPP1.1 | 60S acid...                                           0.002848                                                          \n",
       "...                                                                                               ...                                                          \n",
       "ATMG00980.1 | Symbols: RPSL2 |  | chrm:288446-2...                                           0.003319                                                          \n",
       "ATMG00990.1 | Symbols: NAD3 | NADH dehydrogenas...                                           0.001234                                                          \n",
       "ATMG01080.1 | Symbols: ATP9 | mitochondrial F0-...                                           0.000000                                                          \n",
       "ATMG01270.1 | Symbols: RPS7 | mitochondrial rib...                                           0.003825                                                          \n",
       "ATMG01275.1 | Symbols: ND1, NAD1, NAD1C, NAD1A ...                                           0.001233                                                          \n",
       "\n",
       "                                                    ATMG01270.1 | Symbols: RPS7 | mitochondrial ribosomal protein S7 | chrm:79559-80005 FORWARD LENGTH=148\\n  \\\n",
       "AT1G01020.2 | Symbols: ARV1 |  | chr1:7315-8666...                                           0.004055                                                          \n",
       "AT1G01020.6 | Symbols: ARV1 |  | chr1:7315-8419...                                           0.002221                                                          \n",
       "AT1G01100.1 | Symbols: RPP1A, RPP1.1 | 60S acid...                                           0.007330                                                          \n",
       "AT1G01100.2 | Symbols: RPP1A, RPP1.1 | 60S acid...                                           0.007330                                                          \n",
       "AT1G01100.3 | Symbols: RPP1A, RPP1.1 | 60S acid...                                           0.005468                                                          \n",
       "...                                                                                               ...                                                          \n",
       "ATMG00980.1 | Symbols: RPSL2 |  | chrm:288446-2...                                           0.001342                                                          \n",
       "ATMG00990.1 | Symbols: NAD3 | NADH dehydrogenas...                                           0.003557                                                          \n",
       "ATMG01080.1 | Symbols: ATP9 | mitochondrial F0-...                                           0.003825                                                          \n",
       "ATMG01270.1 | Symbols: RPS7 | mitochondrial rib...                                           0.000000                                                          \n",
       "ATMG01275.1 | Symbols: ND1, NAD1, NAD1C, NAD1A ...                                           0.004453                                                          \n",
       "\n",
       "                                                    ATMG01275.1 | Symbols: ND1, NAD1, NAD1C, NAD1A | NADH DEHYDROGENASE 1, NADH dehydrogenase 1A, NADH dehydrogenase 1C, NAD(P)H DEHYDROGENASE 1 | chrm:58315-59481 FORWARD LENGTH=90\\n  \n",
       "AT1G01020.2 | Symbols: ARV1 |  | chr1:7315-8666...                                           0.001154                                                                                                                                    \n",
       "AT1G01020.6 | Symbols: ARV1 |  | chr1:7315-8419...                                           0.002937                                                                                                                                    \n",
       "AT1G01100.1 | Symbols: RPP1A, RPP1.1 | 60S acid...                                           0.004736                                                                                                                                    \n",
       "AT1G01100.2 | Symbols: RPP1A, RPP1.1 | 60S acid...                                           0.004736                                                                                                                                    \n",
       "AT1G01100.3 | Symbols: RPP1A, RPP1.1 | 60S acid...                                           0.003333                                                                                                                                    \n",
       "...                                                                                               ...                                                                                                                                    \n",
       "ATMG00980.1 | Symbols: RPSL2 |  | chrm:288446-2...                                           0.004269                                                                                                                                    \n",
       "ATMG00990.1 | Symbols: NAD3 | NADH dehydrogenas...                                           0.001444                                                                                                                                    \n",
       "ATMG01080.1 | Symbols: ATP9 | mitochondrial F0-...                                           0.001233                                                                                                                                    \n",
       "ATMG01270.1 | Symbols: RPS7 | mitochondrial rib...                                           0.004453                                                                                                                                    \n",
       "ATMG01275.1 | Symbols: ND1, NAD1, NAD1C, NAD1A ...                                           0.000000                                                                                                                                    \n",
       "\n",
       "[10280 rows x 10280 columns]"
      ]
     },
     "execution_count": 62,
     "metadata": {},
     "output_type": "execute_result"
    }
   ],
   "source": [
    "df"
   ]
  },
  {
   "cell_type": "code",
   "execution_count": null,
   "id": "3c892a42-069b-46d8-a594-e439907f42a5",
   "metadata": {},
   "outputs": [],
   "source": [
    "np.save(\"wesserstein_distance.npy\", wessertein_dist)"
   ]
  },
  {
   "cell_type": "code",
   "execution_count": null,
   "id": "5c2cf396-a682-425b-bc36-bb054f4ee9ce",
   "metadata": {},
   "outputs": [],
   "source": [
    "df.to_csv('wassertein.csv', index=False)"
   ]
  },
  {
   "cell_type": "code",
   "execution_count": null,
   "id": "3b096403-8ec0-485f-9f8d-1f1be9cd52ea",
   "metadata": {},
   "outputs": [],
   "source": [
    "column_names = df.columns"
   ]
  },
  {
   "cell_type": "code",
   "execution_count": null,
   "id": "1cabdb11-f8bd-4255-8fde-589b0014df42",
   "metadata": {},
   "outputs": [],
   "source": [
    "np.save(\"column_names.npy\", column_names)"
   ]
  }
 ],
 "metadata": {
  "kernelspec": {
   "display_name": "python3.10.11",
   "language": "python",
   "name": "python3.10.11"
  },
  "language_info": {
   "codemirror_mode": {
    "name": "ipython",
    "version": 3
   },
   "file_extension": ".py",
   "mimetype": "text/x-python",
   "name": "python",
   "nbconvert_exporter": "python",
   "pygments_lexer": "ipython3",
   "version": "3.10.11"
  }
 },
 "nbformat": 4,
 "nbformat_minor": 5
}
