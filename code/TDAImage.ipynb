{
 "cells": [
  {
   "cell_type": "code",
   "execution_count": 4,
   "id": "59cf11aa-9c8f-4530-89a4-3041c2cbe560",
   "metadata": {},
   "outputs": [],
   "source": [
    "# pip install opencv-python"
   ]
  },
  {
   "cell_type": "code",
   "execution_count": 8,
   "id": "ab939746-8321-4a1e-b16c-feb40b3c4600",
   "metadata": {},
   "outputs": [],
   "source": [
    "# pip install scikit-image"
   ]
  },
  {
   "cell_type": "code",
   "execution_count": 1,
   "id": "ca51bfcf-3226-446d-9f84-127b99aced77",
   "metadata": {},
   "outputs": [],
   "source": [
    "# pip install nibabel"
   ]
  },
  {
   "cell_type": "code",
   "execution_count": 4,
   "id": "8ae9381c-ff90-49c9-b3f0-c646e4d5d6dd",
   "metadata": {},
   "outputs": [],
   "source": [
    "# pip install pytest"
   ]
  },
  {
   "cell_type": "code",
   "execution_count": 1,
   "id": "453f74f5-040f-45f5-8186-0d0f4fe7462c",
   "metadata": {},
   "outputs": [
    {
     "name": "stdout",
     "output_type": "stream",
     "text": [
      "Note: you may need to restart the kernel to use updated packages.\n"
     ]
    },
    {
     "name": "stderr",
     "output_type": "stream",
     "text": [
      "ERROR: Could not find a version that satisfies the requirement function_geometry (from versions: none)\n",
      "ERROR: No matching distribution found for function_geometry\n",
      "\n",
      "[notice] A new release of pip is available: 23.3.1 -> 24.0\n",
      "[notice] To update, run: C:\\Users\\Kelly Larissa\\AppData\\Local\\Microsoft\\WindowsApps\\PythonSoftwareFoundation.Python.3.10_qbz5n2kfra8p0\\python.exe -m pip install --upgrade pip\n"
     ]
    }
   ],
   "source": [
    "pip install function_geometry"
   ]
  },
  {
   "cell_type": "code",
   "execution_count": 21,
   "id": "91f9116a-312f-4890-bd1b-28be10d7d7bb",
   "metadata": {},
   "outputs": [
    {
     "name": "stdout",
     "output_type": "stream",
     "text": [
      "modules loaded\n"
     ]
    }
   ],
   "source": [
    "import numpy as np \n",
    "import matplotlib.pyplot as plt \n",
    "import os \n",
    "from scipy.stats import norm\n",
    "import scipy.stats as sps\n",
    "import cv2\n",
    "from scipy.ndimage import convolve\n",
    "import skimage\n",
    "from scipy import ndimage\n",
    "from scipy.spatial.distance import cdist\n",
    "from nibabel.testing import data_path\n",
    "import nibabel as nib\n",
    "from sklearn.mixture import GaussianMixture\n",
    "import pandas as pd\n",
    "import skimage.measure\n",
    "import seaborn as sns\n",
    "import scipy as sp\n",
    "import gudhi as gd\n",
    "import random\n",
    "from Code.function_geometry import * \n",
    "from Code.codegeometry import * \n",
    "from PIL import Image\n",
    "from gtda.diagrams import HeatKernel, Scaler\n",
    "from gtda.images import Binarizer, RadialFiltration\n",
    "from gtda.homology import CubicalPersistence\n",
    "from sklearn.svm import SVC\n",
    "from sklearn.ensemble import RandomForestClassifier\n",
    "from sklearn.neural_network import MLPClassifier\n",
    "# import Code.similaritymeasures \n",
    "\n",
    "\n",
    "# Importing TDA modules\n",
    "from gtda.plotting import plot_point_cloud\n",
    "import matplotlib.pyplot as plt\n",
    "from gtda.diagrams import PersistenceLandscape, Silhouette, PersistenceEntropy, NumberOfPoints, Amplitude\n",
    "from sklearn.preprocessing import StandardScaler\n",
    "\n",
    "from sklearn.pipeline import make_pipeline, make_union\n",
    "from gtda.images import HeightFiltration\n",
    "from gtda.images import RadialFiltration\n",
    "\n",
    "# Importing Geo modules\n",
    "\n",
    "from Code.feature_utils import *\n",
    "\n",
    "# Ignore Warnings\n",
    "import warnings\n",
    "warnings.filterwarnings(\"ignore\")\n",
    "\n",
    "print ('modules loaded')"
   ]
  },
  {
   "cell_type": "code",
   "execution_count": 16,
   "id": "246d1de3-44a7-48c4-86a4-2d9536bd7880",
   "metadata": {},
   "outputs": [],
   "source": [
    "import numpy as np \n",
    "import matplotlib.pyplot as plt \n",
    "import os \n",
    "from scipy.stats import norm\n",
    "import scipy.stats as sps\n",
    "import cv2\n",
    "from scipy.ndimage import convolve\n",
    "import skimage\n",
    "from scipy import ndimage\n",
    "from scipy.spatial.distance import cdist\n",
    "from nibabel.testing import data_path\n",
    "import nibabel as nib\n",
    "from sklearn.mixture import GaussianMixture\n",
    "import os\n",
    "import pandas as pd\n",
    "import skimage.measure\n",
    "import seaborn as sns\n",
    "import scipy as sp\n",
    "import gudhi as gd\n",
    "import random\n",
    "from Code.function_geometry import * \n",
    "from Code.codegeometry import * \n",
    "from PIL import Image\n",
    "from sklearn.utils import shuffle"
   ]
  },
  {
   "cell_type": "code",
   "execution_count": 24,
   "id": "3fb176cd-9fbf-48da-8c03-da5525175b0d",
   "metadata": {},
   "outputs": [],
   "source": [
    "from gtda.plotting import plot_point_cloud\n",
    "import matplotlib.pyplot as plt\n",
    "from gtda.diagrams import PersistenceLandscape, Silhouette, PersistenceEntropy, NumberOfPoints, Amplitude\n",
    "from sklearn.preprocessing import StandardScaler"
   ]
  },
  {
   "cell_type": "code",
   "execution_count": 26,
   "id": "97d70115-690f-4422-b27b-d9dd5af5777e",
   "metadata": {},
   "outputs": [],
   "source": [
    "import sklearn.preprocessing   as skp\n",
    "import sklearn.neighbors       as skn\n",
    "import sklearn.model_selection as skm\n",
    "import sklearn.decomposition   as skd\n",
    "import sklearn.manifold        as skf\n",
    "import sklearn.pipeline        as skl\n",
    "import sklearn.svm             as sks\n",
    "import sklearn.ensemble        as ske\n",
    "import itertools\n",
    "import tensorflow as tf\n",
    "\n",
    "import gudhi.clustering.tomato as gdt\n",
    "import gudhi.representations   as gdr"
   ]
  },
  {
   "cell_type": "code",
   "execution_count": 23,
   "id": "89376ef0-2c1a-4b10-831d-47ea4f7ddd30",
   "metadata": {},
   "outputs": [],
   "source": [
    "# !python -m venv tutorial_env"
   ]
  },
  {
   "cell_type": "code",
   "execution_count": null,
   "id": "5cf6ee75-71b4-46de-8b07-7313c2a36075",
   "metadata": {},
   "outputs": [],
   "source": [
    "# U_train = U_train_b + U_train_m + U_test_b + U_test_m\n",
    "n = 100\n",
    "i = 0\n",
    "dgms_tda = []\n",
    "dgms_per_var = []\n",
    "dgms_per_linalg = []\n",
    "for U in U_train:\n",
    "    L = np.linspace(np.min(U), np.max(U),  n)[::-1]\n",
    "    #per = np.zeros(n)\n",
    "    #area = np.zeros(n)\n",
    "    #euler = np.zeros(n)\n",
    "    #for t in range(len(L)):\n",
    "     #   per[t] = Perimetre_Hermine(U, L[t])\n",
    "      #  area[t] = Area(U, L[t])\n",
    "       # euler[t] = Euler(U >= L[t])\n",
    "    life, barecode, persistence, connected_comp, Per_total, Area_total, euler_total, per, area, euler = function_persistance(U, L, False)\n",
    "    diagram_pondere_total_vari = np.zeros((len(life), 2))\n",
    "    diagram_pondere_linalg = np.zeros((len(life), 2))\n",
    "    diagram = np.zeros((len(life), 2))\n",
    "    k = 0\n",
    "    idx_keys = list(life.keys())\n",
    "    for idx in idx_keys[1:]:\n",
    "        diagram_pondere_total_vari[k][0] = (np.sum(per[idx]))*life[idx][1]\n",
    "        diagram_pondere_total_vari[k][1] = (np.sum(per[idx]))*life[idx][0]\n",
    "        diagram_pondere_linalg[k][0] = (np.linalg.norm(per[idx]))*life[idx][1]\n",
    "        diagram_pondere_linalg[k][1] = (np.linalg.norm(per[idx]))*life[idx][0]\n",
    "        diagram[0] = life[idx][1]\n",
    "        diagram[1] = life[idx][0]\n",
    "        k=k+1\n",
    "    dgms_tda.append(diagram)\n",
    "    dgms_per_linalg.append(diagram_pondere_linalg)\n",
    "    dgms_per_var.append(diagram_pondere_total_vari)\n",
    "    i=i+1"
   ]
  }
 ],
 "metadata": {
  "kernelspec": {
   "display_name": "Python 3 (ipykernel)",
   "language": "python",
   "name": "python3"
  },
  "language_info": {
   "codemirror_mode": {
    "name": "ipython",
    "version": 3
   },
   "file_extension": ".py",
   "mimetype": "text/x-python",
   "name": "python",
   "nbconvert_exporter": "python",
   "pygments_lexer": "ipython3",
   "version": "3.10.11"
  }
 },
 "nbformat": 4,
 "nbformat_minor": 5
}
